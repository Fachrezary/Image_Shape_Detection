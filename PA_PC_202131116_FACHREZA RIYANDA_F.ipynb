{
 "cells": [
  {
   "cell_type": "markdown",
   "id": "30c6bf9b",
   "metadata": {},
   "source": [
    "# Fachreza Riyanda (202131116) "
   ]
  },
  {
   "cell_type": "markdown",
   "id": "d8653eed",
   "metadata": {},
   "source": [
    "#  Deteksi Bentuk Gambar menggunakan Contour "
   ]
  },
  {
   "cell_type": "markdown",
   "id": "c5c5fbe4",
   "metadata": {},
   "source": [
    "## Import Library"
   ]
  },
  {
   "cell_type": "code",
   "execution_count": 6,
   "id": "358d6bf3",
   "metadata": {},
   "outputs": [],
   "source": [
    "import cv2\n",
    "from matplotlib import pyplot as plt"
   ]
  },
  {
   "cell_type": "markdown",
   "id": "1ddb75a4",
   "metadata": {},
   "source": [
    "## Read and Show Image"
   ]
  },
  {
   "cell_type": "code",
   "execution_count": 7,
   "id": "7a6fed64",
   "metadata": {},
   "outputs": [],
   "source": [
    "image = cv2.imread(\"asset/reza.jpg\")"
   ]
  },
  {
   "cell_type": "code",
   "execution_count": 8,
   "id": "0ebdc85b",
   "metadata": {},
   "outputs": [],
   "source": [
    "cv2.imshow('Image',image)\n",
    "cv2.waitKey(0)\n",
    "cv2.destroyAllWindows()"
   ]
  },
  {
   "cell_type": "markdown",
   "id": "4fc0c0d0",
   "metadata": {},
   "source": [
    "## Image Dimension"
   ]
  },
  {
   "cell_type": "code",
   "execution_count": 9,
   "id": "113976af",
   "metadata": {},
   "outputs": [
    {
     "name": "stdout",
     "output_type": "stream",
     "text": [
      "(250, 268, 3)\n"
     ]
    }
   ],
   "source": [
    "print(image.shape)"
   ]
  },
  {
   "cell_type": "markdown",
   "id": "06631bf8",
   "metadata": {},
   "source": [
    "## Grayscale with opencv function"
   ]
  },
  {
   "cell_type": "code",
   "execution_count": 10,
   "id": "0ff0d9fb",
   "metadata": {},
   "outputs": [],
   "source": [
    "gray = cv2.cvtColor(image, cv2.COLOR_BGR2GRAY)"
   ]
  },
  {
   "cell_type": "code",
   "execution_count": 11,
   "id": "bb016f1c",
   "metadata": {},
   "outputs": [],
   "source": [
    "cv2.imshow(\"Gray\",gray)\n",
    "cv2.waitKey(0)\n",
    "cv2.destroyAllWindows()"
   ]
  },
  {
   "cell_type": "markdown",
   "id": "d5c78606",
   "metadata": {},
   "source": [
    "## Grayscale to binary with opencv function"
   ]
  },
  {
   "cell_type": "code",
   "execution_count": 12,
   "id": "b426ef2e",
   "metadata": {},
   "outputs": [],
   "source": [
    "(thresh, binary) = cv2.threshold(gray, 128, 255, cv2.THRESH_BINARY | cv2.THRESH_OTSU)"
   ]
  },
  {
   "cell_type": "code",
   "execution_count": 13,
   "id": "2d0fbe1d",
   "metadata": {},
   "outputs": [],
   "source": [
    "cv2.imshow(\"Gray\",binary)\n",
    "cv2.waitKey(0)\n",
    "cv2.destroyAllWindows()"
   ]
  },
  {
   "cell_type": "markdown",
   "id": "aff09a80",
   "metadata": {},
   "source": [
    "## Save image as file"
   ]
  },
  {
   "cell_type": "code",
   "execution_count": 14,
   "id": "5176fc1d",
   "metadata": {},
   "outputs": [
    {
     "data": {
      "text/plain": [
       "True"
      ]
     },
     "execution_count": 14,
     "metadata": {},
     "output_type": "execute_result"
    }
   ],
   "source": [
    "cv2.imwrite(\"asset/hasil-binary.png\",binary)"
   ]
  },
  {
   "cell_type": "markdown",
   "id": "2bebc82f",
   "metadata": {},
   "source": [
    "## Read Image Binary"
   ]
  },
  {
   "cell_type": "code",
   "execution_count": 30,
   "id": "6d879540",
   "metadata": {},
   "outputs": [],
   "source": [
    "image = \"Asset/hasil-binary.png\""
   ]
  },
  {
   "cell_type": "markdown",
   "id": "9f4de7f8",
   "metadata": {},
   "source": [
    "## Proses Deteksi Bentuk Gambar Menggunakan Contour"
   ]
  },
  {
   "cell_type": "code",
   "execution_count": 45,
   "id": "59b56e64",
   "metadata": {},
   "outputs": [],
   "source": [
    "def plot_image_with_contours(image_path):\n",
    "    # Memuat gambar\n",
    "    image = cv2.imread(image_path)\n",
    "\n",
    "    # Convert gambar to grayscale\n",
    "    gray = cv2.cvtColor(image, cv2.COLOR_BGR2GRAY)\n",
    "\n",
    "    # Terapkan thresholding untuk mendapatkan citra biner\n",
    "    _, threshold = cv2.threshold(gray, 250, 255, cv2.THRESH_BINARY)\n",
    "\n",
    "    # Menemukan contours in the binary image\n",
    "    contours, _ = cv2.findContours(threshold, cv2.RETR_EXTERNAL, cv2.CHAIN_APPROX_SIMPLE)\n",
    "\n",
    "    # Membuat a figure and axes\n",
    "    fig, axes = plt.subplots(1, 2, figsize=(10, 5))\n",
    "\n",
    "    # Menampilkan Gambar Asli\n",
    "    axes[0].imshow(cv2.cvtColor(image, cv2.COLOR_BGR2RGB))\n",
    "    axes[0].set_title('Gambar Asli')\n",
    "\n",
    "    # Membuat gambar contour pada gambar\n",
    "    for contour in contours:\n",
    "        # Perkirakan kontur untuk menyederhanakan bentuknya\n",
    "        epsilon = 0.000034 * cv2.arcLength(contour, True)\n",
    "        approx = cv2.approxPolyDP(contour, epsilon, True)\n",
    "\n",
    "        # Menggambar Contour\n",
    "        axes[1].plot(approx[:, 0, 0], approx[:, 0, 1], 'r', linewidth=2)\n",
    "\n",
    "    # Menyesuaikan rasio aspek gambar\n",
    "    axes[1].set_aspect('equal')\n",
    "    axes[1].set_title('Contours Gambar')\n",
    "\n",
    "    # Menampilkan plot gambar\n",
    "    plt.tight_layout()\n",
    "    plt.show()"
   ]
  },
  {
   "cell_type": "code",
   "execution_count": 46,
   "id": "fb92639e",
   "metadata": {},
   "outputs": [
    {
     "data": {
      "image/png": "[encoded data removed]",
      "text/plain": [
       "<Figure size 1000x500 with 2 Axes>"
      ]
     },
     "metadata": {},
     "output_type": "display_data"
    }
   ],
   "source": [
    "plot_image_with_contours(image)"
   ]
  }
 ],
 "metadata": {
  "kernelspec": {
   "display_name": "Python 3 (ipykernel)",
   "language": "python",
   "name": "python3"
  },
  "language_info": {
   "codemirror_mode": {
    "name": "ipython",
    "version": 3
   },
   "file_extension": ".py",
   "mimetype": "text/x-python",
   "name": "python",
   "nbconvert_exporter": "python",
   "pygments_lexer": "ipython3",
   "version": "3.9.13"
  }
 },
 "nbformat": 4,
 "nbformat_minor": 5
}
